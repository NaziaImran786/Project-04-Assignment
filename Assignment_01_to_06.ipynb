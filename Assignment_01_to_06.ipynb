{
  "nbformat": 4,
  "nbformat_minor": 0,
  "metadata": {
    "colab": {
      "provenance": [],
      "authorship_tag": "ABX9TyOjKkr54ZdghUzYn1byyi/d",
      "include_colab_link": true
    },
    "kernelspec": {
      "name": "python3",
      "display_name": "Python 3"
    },
    "language_info": {
      "name": "python"
    }
  },
  "cells": [
    {
      "cell_type": "markdown",
      "metadata": {
        "id": "view-in-github",
        "colab_type": "text"
      },
      "source": [
        "<a href=\"https://colab.research.google.com/github/NaziaImran786/Project-04-Assignment/blob/main/Assignment_01_to_06.ipynb\" target=\"_parent\"><img src=\"https://colab.research.google.com/assets/colab-badge.svg\" alt=\"Open In Colab\"/></a>"
      ]
    },
    {
      "cell_type": "markdown",
      "source": [
        "#**Assignment01-to-06**"
      ],
      "metadata": {
        "id": "gftNt5dNjXFg"
      }
    },
    {
      "cell_type": "markdown",
      "source": [
        "# ***Python Project 1 : Mad_libs***\n",
        "Mad libs Python Project\n",
        "In this Kylie Ying tutorial, you will learn how to get input from the user, work with f-strings, and see your results printed to the console.\n",
        "\n",
        "This is a great starter project to get comfortable doing string concatenation in Python."
      ],
      "metadata": {
        "id": "6LhIWV20tsyP"
      }
    },
    {
      "cell_type": "code",
      "execution_count": 3,
      "metadata": {
        "id": "CoS6JOggteYj",
        "colab": {
          "base_uri": "https://localhost:8080/"
        },
        "outputId": "83a87868-4d4f-471c-f024-efa793153a52"
      },
      "outputs": [
        {
          "output_type": "stream",
          "name": "stdout",
          "text": [
            "Welcome to Mad Libs! Fill in the blanks to create your funny story.\n",
            "\n",
            "Enter a noun: monkey\n",
            "Enter a verb: dance\n",
            "Enter an adjective: funny\n",
            "Enter a place: party\n",
            "\n",
            "Here is your Mad Libs story:\n",
            "Yesterday, a funny monkey tried to dance at party, but slipped on a banana peel!\n"
          ]
        }
      ],
      "source": [
        "def mad_libs():\n",
        "    print(\"Welcome to Mad Libs! Fill in the blanks to create your funny story.\\n\")\n",
        "\n",
        "    noun = input(\"Enter a noun: \")\n",
        "    verb = input(\"Enter a verb: \")\n",
        "    adjective = input(\"Enter an adjective: \")\n",
        "    place = input(\"Enter a place: \")\n",
        "\n",
        "    story = f\"Yesterday, a {adjective} {noun} tried to {verb} at {place}, but slipped on a banana peel!\"\n",
        "\n",
        "    print(\"\\nHere is your Mad Libs story:\")\n",
        "    print(story)\n",
        "\n",
        "mad_libs()\n"
      ]
    },
    {
      "cell_type": "markdown",
      "source": [
        "#Project-02\n",
        "Guess the Number Game Python Project (computer)\n",
        "In this Kylie Ying tutorial, you will learn how to work with Python's random module, build functions, work with while loops and conditionals, and get user input."
      ],
      "metadata": {
        "id": "_N_S3r36juql"
      }
    },
    {
      "cell_type": "code",
      "source": [
        "import random\n",
        "\n",
        "def guess_the_number():\n",
        "    print(\"Welcome to 'Guess the Number'! Try to guess the number I'm thinking of.\\n\")\n",
        "\n",
        "    # Generate a random number between 1 and 100\n",
        "    secret_number = random.randint(1, 100)\n",
        "    attempts = 0\n",
        "\n",
        "    while True:\n",
        "        try:\n",
        "            guess = int(input(\"Enter your guess (1-100): \"))\n",
        "            attempts += 1\n",
        "\n",
        "            if guess < secret_number:\n",
        "                print(\"Too low! Try again.\")\n",
        "            elif guess > secret_number:\n",
        "                print(\"Too high! Try again.\")\n",
        "            else:\n",
        "                print(f\"Congratulations! You guessed it in {attempts} attempts.\")\n",
        "                break\n",
        "        except ValueError:\n",
        "            print(\"Please enter a valid number.\")\n",
        "\n",
        "# Start the game\n",
        "guess_the_number()\n"
      ],
      "metadata": {
        "id": "QssWouLcjtFg",
        "outputId": "2c4fa29f-735f-4288-a1ea-d2b3efa57cce",
        "colab": {
          "base_uri": "https://localhost:8080/"
        }
      },
      "execution_count": 4,
      "outputs": [
        {
          "output_type": "stream",
          "name": "stdout",
          "text": [
            "Welcome to 'Guess the Number'! Try to guess the number I'm thinking of.\n",
            "\n",
            "Enter your guess (1-100): 77\n",
            "Too high! Try again.\n",
            "Enter your guess (1-100): 33\n",
            "Too low! Try again.\n",
            "Enter your guess (1-100): 44\n",
            "Too low! Try again.\n",
            "Enter your guess (1-100): 55\n",
            "Congratulations! You guessed it in 4 attempts.\n"
          ]
        }
      ]
    },
    {
      "cell_type": "markdown",
      "source": [
        "#Project-03\n",
        "Guess the Number Game Python Project (user)\n",
        "you will build a guessing game where the computer has to guess the correct number. You will work with Python's random module, build functions, work with while loops and conditionals, and get user input.\n",
        "\n"
      ],
      "metadata": {
        "id": "W1wm0y9pkWBv"
      }
    },
    {
      "cell_type": "code",
      "source": [
        "import random\n",
        "\n",
        "def computer_guesses():\n",
        "    print(\"Welcome to 'Guess the Number'! Think of a number between 1 and 100, and I'll try to guess it.\\n\")\n",
        "\n",
        "    low, high = 1, 100\n",
        "    attempts = 0\n",
        "\n",
        "    while True:\n",
        "        guess = random.randint(low, high)\n",
        "        attempts += 1\n",
        "        print(f\"My guess is: {guess}\")\n",
        "\n",
        "        feedback = input(\"Is my guess too (H)igh, too (L)ow, or (C)orrect? \").lower()\n",
        "\n",
        "        if feedback == 'h':\n",
        "            high = guess - 1\n",
        "        elif feedback == 'l':\n",
        "            low = guess + 1\n",
        "        elif feedback == 'c':\n",
        "            print(f\"Yay! I guessed your number in {attempts} attempts.\")\n",
        "            break\n",
        "        else:\n",
        "            print(\"Please enter 'H', 'L', or 'C'.\")\n",
        "\n",
        "# Start the game\n",
        "computer_guesses()\n"
      ],
      "metadata": {
        "id": "528rnBdkk9OY",
        "colab": {
          "base_uri": "https://localhost:8080/"
        },
        "outputId": "c9f09dc9-1239-44d6-db42-27fc0991ed47"
      },
      "execution_count": 5,
      "outputs": [
        {
          "output_type": "stream",
          "name": "stdout",
          "text": [
            "Welcome to 'Guess the Number'! Think of a number between 1 and 100, and I'll try to guess it.\n",
            "\n",
            "My guess is: 15\n",
            "Is my guess too (H)igh, too (L)ow, or (C)orrect? L\n",
            "My guess is: 90\n",
            "Is my guess too (H)igh, too (L)ow, or (C)orrect? C\n",
            "Yay! I guessed your number in 2 attempts.\n"
          ]
        }
      ]
    },
    {
      "cell_type": "markdown",
      "source": [
        "#Project-04\n",
        "Rock, paper, scissors Python Project\n",
        "you will work with random.choice(), if statements, and getting user input. This is a great project to help you build on the fundamentals like conditionals and functions."
      ],
      "metadata": {
        "id": "OstujE9Dk--7"
      }
    },
    {
      "cell_type": "code",
      "source": [
        "import random\n",
        "\n",
        "def rock_paper_scissors():\n",
        "    print(\"Welcome to Rock, Paper, Scissors! Let's play.\\n\")\n",
        "\n",
        "    choices = [\"rock\", \"paper\", \"scissors\"]\n",
        "\n",
        "    while True:\n",
        "        user_choice = input(\"Enter rock, paper, or scissors (or 'quit' to exit): \").lower()\n",
        "\n",
        "        if user_choice == \"quit\":\n",
        "            print(\"Thanks for playing! Goodbye.\")\n",
        "            break\n",
        "\n",
        "        if user_choice not in choices:\n",
        "            print(\"Invalid choice. Please try again.\")\n",
        "            continue\n",
        "\n",
        "        computer_choice = random.choice(choices)\n",
        "        print(f\"\\nYou chose {user_choice}, and the computer chose {computer_choice}.\\n\")\n",
        "\n",
        "        if user_choice == computer_choice:\n",
        "            print(\"It's a tie!\")\n",
        "        elif (user_choice == \"rock\" and computer_choice == \"scissors\") or \\\n",
        "             (user_choice == \"scissors\" and computer_choice == \"paper\") or \\\n",
        "             (user_choice == \"paper\" and computer_choice == \"rock\"):\n",
        "            print(\"You win!\")\n",
        "        else:\n",
        "            print(\"You lose!\")\n",
        "\n",
        "        print(\"\\nLet's play again!\\n\")\n",
        "\n",
        "# Start the game\n",
        "rock_paper_scissors()"
      ],
      "metadata": {
        "id": "BSFZir7YlQsE",
        "colab": {
          "base_uri": "https://localhost:8080/"
        },
        "outputId": "40305c50-eb8b-4622-df23-c86c8354b916"
      },
      "execution_count": 6,
      "outputs": [
        {
          "output_type": "stream",
          "name": "stdout",
          "text": [
            "Welcome to Rock, Paper, Scissors! Let's play.\n",
            "\n",
            "Enter rock, paper, or scissors (or 'quit' to exit): rock\n",
            "\n",
            "You chose rock, and the computer chose paper.\n",
            "\n",
            "You lose!\n",
            "\n",
            "Let's play again!\n",
            "\n",
            "Enter rock, paper, or scissors (or 'quit' to exit): scissors\n",
            "\n",
            "You chose scissors, and the computer chose rock.\n",
            "\n",
            "You lose!\n",
            "\n",
            "Let's play again!\n",
            "\n",
            "Enter rock, paper, or scissors (or 'quit' to exit): rock\n",
            "\n",
            "You chose rock, and the computer chose rock.\n",
            "\n",
            "It's a tie!\n",
            "\n",
            "Let's play again!\n",
            "\n",
            "Enter rock, paper, or scissors (or 'quit' to exit): quite\n",
            "Invalid choice. Please try again.\n",
            "Enter rock, paper, or scissors (or 'quit' to exit): quit\n",
            "Thanks for playing! Goodbye.\n"
          ]
        }
      ]
    },
    {
      "cell_type": "markdown",
      "source": [
        "#Project-05\n",
        "Hangman Python Project\n",
        "you will learn how to work with dictionaries, lists, and nested if statements. You will also learn how to work with the string and random Python modules."
      ],
      "metadata": {
        "id": "Pcf5wYGWlRaG"
      }
    },
    {
      "cell_type": "code",
      "source": [
        "import random\n",
        "\n",
        "def hangman():\n",
        "    print(\"Welcome to Hangman! Try to guess the word letter by letter.\\n\")\n",
        "\n",
        "    words = [\"python\", \"hangman\", \"developer\", \"computer\", \"programming\"]\n",
        "    word = random.choice(words)\n",
        "    guessed_letters = []\n",
        "    attempts = 6\n",
        "    display = [\"_\"] * len(word)\n",
        "\n",
        "    while attempts > 0 and \"_\" in display:\n",
        "        print(\"\\nWord: \" + \" \".join(display))\n",
        "        print(f\"Attempts left: {attempts}\")\n",
        "        guess = input(\"Guess a letter: \").lower()\n",
        "\n",
        "        if len(guess) != 1 or not guess.isalpha():\n",
        "            print(\"Please enter a single valid letter.\")\n",
        "            continue\n",
        "\n",
        "        if guess in guessed_letters:\n",
        "            print(\"You already guessed that letter. Try again.\")\n",
        "            continue\n",
        "\n",
        "        guessed_letters.append(guess)\n",
        "\n",
        "        if guess in word:\n",
        "            for i, letter in enumerate(word):\n",
        "                if letter == guess:\n",
        "                    display[i] = guess\n",
        "            print(\"Good job! You guessed a letter.\")\n",
        "        else:\n",
        "            attempts -= 1\n",
        "            print(\"Wrong guess! Try again.\")\n",
        "\n",
        "    if \"_\" not in display:\n",
        "        print(\"\\nCongratulations! You guessed the word:\", word)\n",
        "    else:\n",
        "        print(\"\\nGame over! The word was:\", word)\n",
        "\n",
        "# Start the game\n",
        "hangman()\n"
      ],
      "metadata": {
        "id": "svyQr8uBlcnN",
        "colab": {
          "base_uri": "https://localhost:8080/"
        },
        "outputId": "7962b884-4c70-48aa-ec7b-8161c011f513"
      },
      "execution_count": 7,
      "outputs": [
        {
          "output_type": "stream",
          "name": "stdout",
          "text": [
            "Welcome to Hangman! Try to guess the word letter by letter.\n",
            "\n",
            "\n",
            "Word: _ _ _ _ _ _ _\n",
            "Attempts left: 6\n",
            "Guess a letter: c\n",
            "Wrong guess! Try again.\n",
            "\n",
            "Word: _ _ _ _ _ _ _\n",
            "Attempts left: 5\n",
            "Guess a letter: p\n",
            "Wrong guess! Try again.\n",
            "\n",
            "Word: _ _ _ _ _ _ _\n",
            "Attempts left: 4\n",
            "Guess a letter: h\n",
            "Good job! You guessed a letter.\n",
            "\n",
            "Word: h _ _ _ _ _ _\n",
            "Attempts left: 4\n",
            "Guess a letter: u\n",
            "Wrong guess! Try again.\n",
            "\n",
            "Word: h _ _ _ _ _ _\n",
            "Attempts left: 3\n",
            "Guess a letter: n\n",
            "Good job! You guessed a letter.\n",
            "\n",
            "Word: h _ n _ _ _ n\n",
            "Attempts left: 3\n",
            "Guess a letter: g\n",
            "Good job! You guessed a letter.\n",
            "\n",
            "Word: h _ n g _ _ n\n",
            "Attempts left: 3\n",
            "Guess a letter: m\n",
            "Good job! You guessed a letter.\n",
            "\n",
            "Word: h _ n g m _ n\n",
            "Attempts left: 3\n",
            "Guess a letter: a\n",
            "Good job! You guessed a letter.\n",
            "\n",
            "Congratulations! You guessed the word: hangman\n"
          ]
        }
      ]
    },
    {
      "cell_type": "markdown",
      "source": [
        "#Project-06\n",
        "Countdown Timer Python Project\n",
        "you will learn how to build a countdown timer using the time Python module. This is a great beginner project to get you used to working with while loops in Python."
      ],
      "metadata": {
        "id": "BvTTi0cMlfRa"
      }
    },
    {
      "cell_type": "code",
      "source": [
        "import time\n",
        "\n",
        "def countdown_timer(seconds):\n",
        "    while seconds > 0:\n",
        "        mins, secs = divmod(seconds, 60)\n",
        "        timer = f\"{mins:02}:{secs:02}\"\n",
        "        print(timer, end=\"\\r\")\n",
        "        time.sleep(1)\n",
        "        seconds -= 1\n",
        "\n",
        "    print(\"Time's up! ⏳\")\n",
        "\n",
        "# Get user input\n",
        "try:\n",
        "    total_seconds = int(input(\"Enter time in seconds: \"))\n",
        "    countdown_timer(total_seconds)\n",
        "except ValueError:\n",
        "    print(\"Please enter a valid number.\")"
      ],
      "metadata": {
        "id": "hxWS8g-qlq6A",
        "colab": {
          "base_uri": "https://localhost:8080/"
        },
        "outputId": "ec4a5285-d0fe-459d-c500-f3c0afee4a44"
      },
      "execution_count": 8,
      "outputs": [
        {
          "output_type": "stream",
          "name": "stdout",
          "text": [
            "Enter time in seconds: 4\n",
            "Time's up! ⏳\n"
          ]
        }
      ]
    }
  ]
}