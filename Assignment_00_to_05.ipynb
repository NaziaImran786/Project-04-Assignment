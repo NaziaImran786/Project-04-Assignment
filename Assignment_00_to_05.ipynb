{
  "nbformat": 4,
  "nbformat_minor": 0,
  "metadata": {
    "colab": {
      "provenance": [],
      "authorship_tag": "ABX9TyPJE+SpjtLHFhSa5vLPBTsM",
      "include_colab_link": true
    },
    "kernelspec": {
      "name": "python3",
      "display_name": "Python 3"
    },
    "language_info": {
      "name": "python"
    }
  },
  "cells": [
    {
      "cell_type": "markdown",
      "metadata": {
        "id": "view-in-github",
        "colab_type": "text"
      },
      "source": [
        "<a href=\"https://colab.research.google.com/github/NaziaImran786/Project-04-Assignment/blob/main/Assignment_00_to_05.ipynb\" target=\"_parent\"><img src=\"https://colab.research.google.com/assets/colab-badge.svg\" alt=\"Open In Colab\"/></a>"
      ]
    },
    {
      "cell_type": "markdown",
      "source": [
        "#**Assignment_00_To_05**"
      ],
      "metadata": {
        "id": "-EkarpNROOs3"
      }
    },
    {
      "cell_type": "markdown",
      "source": [
        "#Step No. **00_Into_Python**"
      ],
      "metadata": {
        "id": "6vYloizZc1Hf"
      }
    },
    {
      "cell_type": "markdown",
      "source": [
        "#01_Add_Two Numbers\n",
        "Q.1 Write a Python program that takes two integer inputs from the user and calculates their sum. The program should perform the following tasks:\n",
        "\n",
        "Prompt the user to enter the first number.\n",
        "\n",
        "Read the input and convert it to an integer.\n",
        "\n",
        "Prompt the user to enter the second number.\n",
        "\n",
        "Read the input and convert it to an integer.\n",
        "\n",
        "Calculate the sum of the two numbers.\n",
        "\n",
        "Print the total sum with an appropriate message.\n",
        "\n",
        "The provided solution demonstrates a working implementation of this problem, where the main() function guides the user through the process of entering two numbers and displays their sum."
      ],
      "metadata": {
        "id": "83RJXh-uLz0a"
      }
    },
    {
      "cell_type": "code",
      "source": [
        "def addTwoNum():\n",
        "    print(\"This program adds two numbers.\")\n",
        "    num1 = input(\"Enter first number: \")\n",
        "    num1 = int(num1)\n",
        "    num2 = input(\"Enter second number: \")\n",
        "    num2 = int(num2)\n",
        "    total = num1 + num2\n",
        "    print(\"The total is \" + str(total) + \".\")\n",
        "\n",
        "if __name__ == '__main__':\n",
        "    addTwoNum()"
      ],
      "metadata": {
        "colab": {
          "base_uri": "https://localhost:8080/"
        },
        "id": "mylExNUpL4jI",
        "outputId": "a8e44053-e4f2-4e88-939e-b69459dc489f"
      },
      "execution_count": null,
      "outputs": [
        {
          "output_type": "stream",
          "name": "stdout",
          "text": [
            "This program adds two numbers.\n",
            "Enter first number: 2\n",
            "Enter second number: 3\n",
            "The total is 5.\n"
          ]
        }
      ]
    },
    {
      "cell_type": "markdown",
      "source": [
        "#02_Agreement_bot\n",
        "Q.2 Write a program which asks the user what their favorite animal is, and then always responds with \"My favorite animal is also ___!\" (the blank should be filled in with the user-inputted animal, of course).\n",
        "\n",
        "Here's a sample run of the program (user input is in bold italics - note the space between the prompt and the user input!):\n",
        "\n",
        "What's your favorite animal? cow\n",
        "\n",
        "My favorite animal is also cow!"
      ],
      "metadata": {
        "id": "wnkuvoP8MJDP"
      }
    },
    {
      "cell_type": "code",
      "source": [
        "favorite_animal = input(\"What's your favorite animal? \")\n",
        "\n",
        "print(f\"My favorite animal is also {favorite_animal}!\")"
      ],
      "metadata": {
        "colab": {
          "base_uri": "https://localhost:8080/"
        },
        "id": "zCMBQ_CeMV3Q",
        "outputId": "6f59dbfd-d0a7-438c-9a24-1ae81e9573f2"
      },
      "execution_count": null,
      "outputs": [
        {
          "output_type": "stream",
          "name": "stdout",
          "text": [
            "What's your favorite animal? rabitt\n",
            "My favorite animal is also rabitt!\n"
          ]
        }
      ]
    },
    {
      "cell_type": "markdown",
      "source": [
        "#03_Fahrenheit_To_Celsius\n",
        "Q.3 Write a program which prompts the user for a temperature in Fahrenheit (this can be a number with decimal places!) and outputs the temperature converted to Celsius.\n",
        "\n",
        "The Celsius scale is widely used to measure temperature, but places still use Fahrenheit. Fahrenheit is another unit for temperature, but the scale is different from Celsius -- for example, 0 degrees Celsius is 32 degrees Fahrenheit!\n",
        "\n",
        "The equation you should use for converting from Fahrenheit to Celsius is the following:\n",
        "\n",
        "degrees_celsius = (degrees_fahrenheit - 32) * 5.0/9.0\n",
        "\n",
        "(Note. The .0 after the 5 and 9 matters in the line above!!!)\n",
        "\n",
        "Here's a sample run of the program (user input is in bold italics):\n",
        "\n",
        "Enter temperature in Fahrenheit: 76\n",
        "\n",
        "Temperature: 76.0F = 24.444444444444443C"
      ],
      "metadata": {
        "id": "evKuazMiMumu"
      }
    },
    {
      "cell_type": "code",
      "source": [
        "degrees_fahrenheit = float(input(\"Enter temperature in Fahrenheit: \"))\n",
        "\n",
        "degrees_celsius = (degrees_fahrenheit - 32) * 5.0 / 9.0\n",
        "\n",
        "print(f\"Temperature: {degrees_fahrenheit} F = {degrees_celsius} C\")"
      ],
      "metadata": {
        "colab": {
          "base_uri": "https://localhost:8080/"
        },
        "id": "3941JzRGMfQc",
        "outputId": "8e8de8c4-0e7d-4dc0-ad93-5243eab5a1db"
      },
      "execution_count": null,
      "outputs": [
        {
          "output_type": "stream",
          "name": "stdout",
          "text": [
            "Enter temperature in Fahrenheit: 104\n",
            "Temperature: 104.0 F = 40.0 C\n"
          ]
        }
      ]
    },
    {
      "cell_type": "markdown",
      "source": [
        "#04_How Old_Are_They\n",
        "Q.4 Write a program to solve this age-related riddle!\n",
        "\n",
        "Anton, Beth, Chen, Drew, and Ethan are all friends. Their ages are as follows:\n",
        "\n",
        "Anton is 21 years old.\n",
        "\n",
        "Beth is 6 years older than Anton.\n",
        "\n",
        "Chen is 20 years older than Beth.\n",
        "\n",
        "Drew is as old as Chen's age plus Anton's age.\n",
        "\n",
        "Ethan is the same age as Chen.\n",
        "\n",
        "Your code should store each person's age to a variable and print their names and ages at the end. The autograder is sensitive to capitalization and punctuation, be careful! Your solution should look like this (the below numbers are made up -- your solution should have the correct values!):"
      ],
      "metadata": {
        "id": "jmeysZBfNcms"
      }
    },
    {
      "cell_type": "code",
      "source": [
        "anton_age = 21\n",
        "beth_age = anton_age + 6\n",
        "chen_age = beth_age + 20\n",
        "drew_age = chen_age + anton_age\n",
        "ethan_age = chen_age\n",
        "\n",
        "print(f\"Anton is {anton_age} years old.\")\n",
        "print(f\"Beth is {beth_age} years old.\")\n",
        "print(f\"Chen is {chen_age} years old.\")\n",
        "print(f\"Drew is {drew_age} years old.\")\n",
        "print(f\"Ethan is {ethan_age} years old.\")"
      ],
      "metadata": {
        "colab": {
          "base_uri": "https://localhost:8080/"
        },
        "id": "wcLZZnvROHEg",
        "outputId": "0c659a5b-c0ed-4fd8-ceea-2ec388b8c2ac"
      },
      "execution_count": null,
      "outputs": [
        {
          "output_type": "stream",
          "name": "stdout",
          "text": [
            "Anton is 21 years old.\n",
            "Beth is 27 years old.\n",
            "Chen is 47 years old.\n",
            "Drew is 68 years old.\n",
            "Ethan is 47 years old.\n"
          ]
        }
      ]
    },
    {
      "cell_type": "markdown",
      "source": [
        "#05_Triangle_To_Perimeter\n",
        "Q. 5 Prompt the user to enter the lengths of each side of a triangle and then calculate and print the perimeter of the triangle (the sum of all of the side lengths).\n",
        "\n",
        "Here's a sample run of the program (user input is in bold italics):\n",
        "\n",
        "What is the length of side 1? 3\n",
        "\n",
        "What is the length of side 2? 4\n",
        "\n",
        "What is the length of side 3? 5.5\n",
        "\n",
        "The perimeter of the triangle is 12.5"
      ],
      "metadata": {
        "id": "1EoH-ZXdOkfJ"
      }
    },
    {
      "cell_type": "code",
      "source": [
        "side1 = float(input(\"What is the length of side 1? \"))\n",
        "side2 = float(input(\"What is the length of side 2? \"))\n",
        "side3 = float(input(\"What is the length of side 3? \"))\n",
        "\n",
        "perimeter = side1 + side2 + side3\n",
        "\n",
        "print(f\"The perimeter of the triangle is {perimeter}\")"
      ],
      "metadata": {
        "colab": {
          "base_uri": "https://localhost:8080/"
        },
        "id": "LzfQ_32_PCxp",
        "outputId": "75936076-a58f-43ed-de45-ade00a4b9119"
      },
      "execution_count": null,
      "outputs": [
        {
          "output_type": "stream",
          "name": "stdout",
          "text": [
            "What is the length of side 1? 3\n",
            "What is the length of side 2? 4\n",
            "What is the length of side 3? 5\n",
            "The perimeter of the triangle is 12.0\n"
          ]
        }
      ]
    },
    {
      "cell_type": "markdown",
      "source": [
        "#06_Square_Number\n",
        "Q. 6 Ask the user for a number and print its square (the product of the number times itself).\n",
        "\n",
        "Here's a sample run of the program (user input is in bold italics):\n",
        "\n",
        "Type a number to see its square: 4\n",
        "\n",
        "4.0 squared is 16.0"
      ],
      "metadata": {
        "id": "UvOHSnwjPhb0"
      }
    },
    {
      "cell_type": "code",
      "source": [
        "number = float(input(\"Type a number to see its square: \"))\n",
        "\n",
        "square = number * number\n",
        "\n",
        "print(f\"{number} squared is {square}\")"
      ],
      "metadata": {
        "colab": {
          "base_uri": "https://localhost:8080/"
        },
        "id": "xkUBFLCXPzP5",
        "outputId": "734c7d9e-9c24-4e7c-d601-1cb7524d5968"
      },
      "execution_count": null,
      "outputs": [
        {
          "output_type": "stream",
          "name": "stdout",
          "text": [
            "Type a number to see its square: 9\n",
            "9.0 squared is 81.0\n"
          ]
        }
      ]
    },
    {
      "cell_type": "markdown",
      "source": [
        "#**Step_01_Expression**"
      ],
      "metadata": {
        "id": "uVF4voOklHLo"
      }
    },
    {
      "cell_type": "markdown",
      "source": [
        "#01_Simulate_Rolling_Dice\n",
        "\n",
        "Q. 1 Simulate rolling two dice, three times. Prints the results of each die roll. This program is used to show how variable scope works.\n",
        "\n",
        "Starter Code\n",
        "def main():\n",
        "    print(\"Delete this line and write your code here! :)\")\n",
        "\n",
        "\n",
        "# This provided line is required at the end of\n",
        "# Python file to call the main() function.\n",
        "if __name__ == '__main__':\n",
        "    main()"
      ],
      "metadata": {
        "id": "F9qJ8YdtQkY1"
      }
    },
    {
      "cell_type": "code",
      "source": [
        "\n",
        "import random\n",
        "\n",
        "NUM_SIDES = 6\n",
        "\n",
        "def roll_dice():\n",
        "\n",
        "    die1: int = random.randint(1, NUM_SIDES)\n",
        "    die2: int = random.randint(1, NUM_SIDES)\n",
        "    total: int = die1 + die2\n",
        "    print(\"Total of two dice:\", total)\n",
        "\n",
        "def main():\n",
        "    die1: int = 10\n",
        "    print(\"die1 in main() starts as: \" + str(die1))\n",
        "    roll_dice()\n",
        "    roll_dice()\n",
        "    roll_dice()\n",
        "    print(\"die1 in main() is: \" + str(die1))\n",
        "\n",
        "# This provided line is required at the end of a Python file\n",
        "# to call the main() function.\n",
        "if __name__ == '__main__':\n",
        "    main()"
      ],
      "metadata": {
        "colab": {
          "base_uri": "https://localhost:8080/"
        },
        "id": "FXTqtF1PRFjG",
        "outputId": "1ac77950-844d-4965-83cb-1d9d3ac58368"
      },
      "execution_count": null,
      "outputs": [
        {
          "output_type": "stream",
          "name": "stdout",
          "text": [
            "die1 in main() starts as: 10\n",
            "Total of two dice: 9\n",
            "Total of two dice: 6\n",
            "Total of two dice: 7\n",
            "die1 in main() is: 10\n"
          ]
        }
      ]
    },
    {
      "cell_type": "markdown",
      "source": [
        "#02_E=mc2\n",
        "Q. 2 Write a program that continually reads in mass from the user and then outputs the equivalent energy using Einstein's mass-energy equivalence formula (E stands for energy, m stands for mass, and C is the speed of light):\n",
        "\n",
        "E = m * c**2\n",
        "\n",
        "Almost 100 years ago, Albert Einstein famously discovered that mass and energy are interchangeable and are related by the above equation. You should ask the user for mass (m) in kilograms and use a constant value for the speed of light -- C = 299792458 m/s.\n",
        "\n",
        "Here's a sample run of the program (user input is in bold italics):\n",
        "\n",
        "Enter kilos of mass: 100\n",
        "\n",
        "e = m * C^2...\n",
        "\n",
        "m = 100.0 kg\n",
        "\n",
        "C = 299792458 m/s\n",
        "\n",
        "8.987551787368176e+18 joules of energy!"
      ],
      "metadata": {
        "id": "fVCpsQTMReam"
      }
    },
    {
      "cell_type": "code",
      "source": [
        "# Define the constant speed of light in m/s\n",
        "C = 299792458\n",
        "\n",
        "while True:\n",
        "    # Prompt the user for mass in kilograms\n",
        "    mass = float(input(\"Enter kilos of mass: \"))\n",
        "\n",
        "    # Calculate the energy\n",
        "    energy = mass * C**2\n",
        "\n",
        "    # Display the results\n",
        "    print(\"\\ne = m * C^2...\")\n",
        "    print(f\"m = {mass} kg\")\n",
        "    print(f\"C = {C} m/s\")\n",
        "    print(f\"{energy} joules of energy!\\n\")\n"
      ],
      "metadata": {
        "id": "5YCD_apyRoRl"
      },
      "execution_count": null,
      "outputs": []
    },
    {
      "cell_type": "markdown",
      "source": [
        "#03_Feet _To_Inches\n",
        "Q. 3 Converts feet to inches. Feet is an American unit of measurement. There are 12 inches per foot. Foot is the singular, and feet is the plural.\n",
        "\n",
        "Starter Code\n",
        "def main():\n",
        "    print(\"Delete this line and write your code here! :)\")\n",
        "\n",
        "\n",
        "# This provided line is required at the end of\n",
        "# Python file to call the main() function.\n",
        "if __name__ == '__main__':\n",
        "    main()"
      ],
      "metadata": {
        "id": "8yIrYFrkSF5J"
      }
    },
    {
      "cell_type": "code",
      "source": [
        "def main():\n",
        "    # Prompt the user to enter a measurement in feet\n",
        "    feet = float(input(\"Enter the measurement in feet: \"))\n",
        "\n",
        "    # Convert feet to inches\n",
        "    inches = feet * 12\n",
        "\n",
        "    # Print the result\n",
        "    print(f\"{feet} feet is equal to {inches} inches.\")\n",
        "\n",
        "\n",
        "# This provided line is required at the end of\n",
        "# Python file to call the main() function.\n",
        "if __name__ == '__main__':\n",
        "    main()\n"
      ],
      "metadata": {
        "colab": {
          "base_uri": "https://localhost:8080/"
        },
        "id": "nFLqMjkLSUt-",
        "outputId": "81835bac-6299-4018-8db3-91d6206dee5f"
      },
      "execution_count": null,
      "outputs": [
        {
          "output_type": "stream",
          "name": "stdout",
          "text": [
            "Enter the measurement in feet: 56\n",
            "56.0 feet is equal to 672.0 inches.\n"
          ]
        }
      ]
    },
    {
      "cell_type": "markdown",
      "source": [
        "#04_Pythagorem_Theorem\n",
        "Q. 4 Write a program that asks the user for the lengths of the two perpendicular sides of a right triangle and outputs the length of the third side (the hypotenuse) using the Pythagorean theorem!\n",
        "\n",
        "The Pythagorean theorem, named after the ancient Greek thinker, Pythagoras, is a fundamental relation in geometry. It states that in a right triangle, the square of the hypotenuse is equal to the sum of the square of the other two sides.\n",
        "\n",
        "For instance, let's consider a right triangle ABC, with the right angle located at C. According to the Pythagorean theorem:\n",
        "\n",
        "BC ** 2 = AB ** 2 + AC ** 2\n",
        "\n",
        "Your code should read in the lengths of the sides AB and AC, and that outputs the length of the hypotenuse (BC). You will probably find math.sqrt() to be useful.\n",
        "\n",
        "Here's a sample run of the program (user input is in bold italics):\n",
        "\n",
        "Enter the length of AB: 3\n",
        "\n",
        "Enter the length of AC: 4\n",
        "\n",
        "The length of BC (the hypotenuse) is: 5.0\n",
        "\n",
        "Starter Code"
      ],
      "metadata": {
        "id": "gwOd6ttWSfFx"
      }
    },
    {
      "cell_type": "code",
      "source": [
        "import math\n",
        "\n",
        "def main():\n",
        "    # Prompt the user for the lengths of the two perpendicular sides\n",
        "    ab = float(input(\"Enter the length of AB: \"))\n",
        "    ac = float(input(\"Enter the length of AC: \"))\n",
        "\n",
        "    # Calculate the hypotenuse using the Pythagorean theorem\n",
        "    bc = math.sqrt(ab**2 + ac**2)\n",
        "\n",
        "    # Output the length of the hypotenuse\n",
        "    print(f\"The length of BC (the hypotenuse) is: {bc}\")\n",
        "\n",
        "# This provided line is required at the end of\n",
        "# Python file to call the main() function.\n",
        "if __name__ == '__main__':\n",
        "    main()\n",
        "\n"
      ],
      "metadata": {
        "colab": {
          "base_uri": "https://localhost:8080/"
        },
        "id": "eCog-bIKSwLd",
        "outputId": "a9766536-cff5-403c-aa7c-2cb18cdbaf2e"
      },
      "execution_count": null,
      "outputs": [
        {
          "output_type": "stream",
          "name": "stdout",
          "text": [
            "Enter the length of AB: 99\n",
            "Enter the length of AC: 89\n",
            "The length of BC (the hypotenuse) is: 133.12400234367956\n"
          ]
        }
      ]
    },
    {
      "cell_type": "markdown",
      "source": [
        "#05_Reminder_Division\n",
        "Q. 5 Ask the user for two numbers, one at a time, and then print the result of dividing the first number by the second and also the remainder of the division.\n",
        "\n",
        "Here's a sample run of the program (user input is in bold italics):\n",
        "\n",
        "Please enter an integer to be divided: 5\n",
        "\n",
        "Please enter an integer to divide by: 3\n",
        "\n",
        "The result of this division is 1 with a remainder of 2"
      ],
      "metadata": {
        "id": "spzZ_KQXS4N4"
      }
    },
    {
      "cell_type": "code",
      "source": [
        "def main():\n",
        "    # Prompt the user for the two numbers\n",
        "    dividend = int(input(\"Please enter an integer to be divided: \"))\n",
        "    divisor = int(input(\"Please enter an integer to divide by: \"))\n",
        "\n",
        "    # Calculate the quotient and remainder\n",
        "    quotient = dividend // divisor\n",
        "    remainder = dividend % divisor\n",
        "\n",
        "    # Print the result\n",
        "    print(f\"The result of this division is {quotient} with a remainder of {remainder}\")\n",
        "\n",
        "if __name__ == '__main__':\n",
        "    main()\n"
      ],
      "metadata": {
        "colab": {
          "base_uri": "https://localhost:8080/"
        },
        "id": "7eCKjEeqTDyl",
        "outputId": "d75b6a25-2557-4591-f48f-2f536ac25d25"
      },
      "execution_count": null,
      "outputs": [
        {
          "output_type": "stream",
          "name": "stdout",
          "text": [
            "Please enter an integer to be divided: 76\n",
            "Please enter an integer to divide by: 66\n",
            "The result of this division is 1 with a remainder of 10\n"
          ]
        }
      ]
    },
    {
      "cell_type": "markdown",
      "source": [
        "#06a_Rolling_Dice\n",
        "Q. 6a  Simulate rolling two dice, and prints results of each roll as well as the total."
      ],
      "metadata": {
        "id": "auqnreCGTNOO"
      }
    },
    {
      "cell_type": "code",
      "source": [
        "import random\n",
        "\n",
        "def main():\n",
        "    die1 = random.randint(1, 6)\n",
        "    die2 = random.randint(1, 6)\n",
        "\n",
        "    total = die1 + die2\n",
        "\n",
        "    print(f\"Rolled a {die1} and a {die2}\")\n",
        "    print(f\"The total is {total}\")\n",
        "\n",
        "if __name__ == '__main__':\n",
        "    main()\n"
      ],
      "metadata": {
        "colab": {
          "base_uri": "https://localhost:8080/"
        },
        "id": "JILgSt1LTt9c",
        "outputId": "c5864d6b-d891-4d72-b948-599972ca0902"
      },
      "execution_count": null,
      "outputs": [
        {
          "output_type": "stream",
          "name": "stdout",
          "text": [
            "Rolled a 4 and a 4\n",
            "The total is 8\n"
          ]
        }
      ]
    },
    {
      "cell_type": "markdown",
      "source": [
        "#06b_Seconds_In_Year\n",
        "Q. 6b Use Python to calculate the number of seconds in a year, and tell the user what the result is in a nice print statement that looks like this (of course the value 5 should be the calculated number instead):\n",
        "\n",
        "There are 5 seconds in a year!\n",
        "\n",
        "You should use constants for this exercise -- there are 365 days in a year, 24 hours in a day, 60 minutes in an hour, and 60 seconds per minute."
      ],
      "metadata": {
        "id": "3GJwp-wYT1w5"
      }
    },
    {
      "cell_type": "code",
      "source": [
        "DAYS_IN_YEAR = 365\n",
        "HOURS_IN_DAY = 24\n",
        "MINUTES_IN_HOUR = 60\n",
        "SECONDS_IN_MINUTE = 60\n",
        "\n",
        "seconds_in_year = DAYS_IN_YEAR * HOURS_IN_DAY * MINUTES_IN_HOUR * SECONDS_IN_MINUTE\n",
        "\n",
        "print(f\"There are {seconds_in_year} seconds in a year!\")\n"
      ],
      "metadata": {
        "colab": {
          "base_uri": "https://localhost:8080/"
        },
        "id": "elpKvNjWUHZj",
        "outputId": "9fc6684b-6e22-4d52-fc90-a53866a9d75e"
      },
      "execution_count": null,
      "outputs": [
        {
          "output_type": "stream",
          "name": "stdout",
          "text": [
            "There are 31536000 seconds in a year!\n"
          ]
        }
      ]
    },
    {
      "cell_type": "markdown",
      "source": [
        "#07_Tiny_mid_lib\n",
        "Q. 7 Write a program which prompts the user for an adjective, then a noun, then a verb, and then prints a fun sentence with those words!\n",
        "\n",
        "Mad Libs is a word game where players are prompted for one word at a time, and the words are eventually filled into the blanks of a word template to make an entertaining story! We've provided you with the beginning of a sentence (the SENTENCE_START constant) which will end in a user-inputted adjective, noun, and then verb.\n",
        "\n",
        "Here's a sample run (user input is in bold italics):\n",
        "\n",
        "Please type an adjective and press enter. tiny\n",
        "\n",
        "Please type a noun and press enter. plant\n",
        "\n",
        "Please type a verb and press enter. fly\n",
        "\n",
        "Code in Place is fun. I learned to program and used Python to make my tiny plant fly!"
      ],
      "metadata": {
        "id": "DWL9Q2xEUMQG"
      }
    },
    {
      "cell_type": "code",
      "source": [
        "def main():\n",
        "    adjective = input(\"Please type an adjective and press enter. \")\n",
        "    noun = input(\"Please type a noun and press enter. \")\n",
        "    verb = input(\"Please type a verb and press enter. \")\n",
        "\n",
        "    print(f\"Code in Place is fun. I learned to program and used Python to make my {adjective} {noun} {verb}!\")\n",
        "\n",
        "if __name__ == '__main__':\n",
        "    main()\n"
      ],
      "metadata": {
        "colab": {
          "base_uri": "https://localhost:8080/"
        },
        "id": "8-mKZN8vUY5q",
        "outputId": "4c81bad4-c0cb-4b90-92a8-62cbeb23134a"
      },
      "execution_count": null,
      "outputs": [
        {
          "output_type": "stream",
          "name": "stdout",
          "text": [
            "Please type an adjective and press enter. tiny\n",
            "Please type a noun and press enter. plant\n",
            "Please type a verb and press enter. fly\n",
            "Code in Place is fun. I learned to program and used Python to make my tiny plant fly!\n"
          ]
        }
      ]
    },
    {
      "cell_type": "markdown",
      "source": [
        "#**Step_02_List**"
      ],
      "metadata": {
        "id": "NvOznh7bpFGP"
      }
    },
    {
      "cell_type": "markdown",
      "source": [
        "#01_Add_Many_numbers\n",
        "\n",
        "Q.1 Write a function that takes a list of numbers and returns the sum of those numbers."
      ],
      "metadata": {
        "id": "bL9Ae_40VNSS"
      }
    },
    {
      "cell_type": "code",
      "source": [
        "def sum_of_numbers(numbers):\n",
        "\n",
        "    return sum(numbers)\n",
        "\n",
        "numbers_list = [1, 2, 3, 4, 5]\n",
        "result = sum_of_numbers(numbers_list)\n",
        "print(f\"The sum of the numbers is: {result}\")\n"
      ],
      "metadata": {
        "colab": {
          "base_uri": "https://localhost:8080/"
        },
        "id": "q6Y2_UtlVqHm",
        "outputId": "459ae777-1074-43c8-d5fc-258c93746b8f"
      },
      "execution_count": null,
      "outputs": [
        {
          "output_type": "stream",
          "name": "stdout",
          "text": [
            "The sum of the numbers is: 15\n"
          ]
        }
      ]
    },
    {
      "cell_type": "markdown",
      "source": [
        "#02_Double_List\n",
        "Q.2 Write a program that doubles each element in a list of numbers. For example, if you start with this list:\n",
        "\n",
        "numbers = [1, 2, 3, 4]\n",
        "\n",
        "You should end with this list:\n",
        "\n",
        "numbers = [2, 4, 6, 8]"
      ],
      "metadata": {
        "id": "fHS6NJSKWO0x"
      }
    },
    {
      "cell_type": "code",
      "source": [
        "def double_elements(numbers):\n",
        "    # Create a new list with each element doubled\n",
        "    return [number * 2 for number in numbers]\n",
        "\n",
        "# Example usage\n",
        "numbers = [1, 2, 3, 4]\n",
        "doubled_numbers = double_elements(numbers)\n",
        "print(f\"Doubled numbers: {doubled_numbers}\")"
      ],
      "metadata": {
        "colab": {
          "base_uri": "https://localhost:8080/"
        },
        "id": "3fb15Co_WYfW",
        "outputId": "6d6ea3fa-8347-4501-c447-1ef546f45336"
      },
      "execution_count": null,
      "outputs": [
        {
          "output_type": "stream",
          "name": "stdout",
          "text": [
            "Doubled numbers: [2, 4, 6, 8]\n"
          ]
        }
      ]
    },
    {
      "cell_type": "markdown",
      "source": [
        "#03_Erase_Canvas\n",
        "Q.3 The canvas consists of a grid of blue 'cells' which are drawn as rectangles on the screen. We then create an eraser rectangle which, when dragged around the canvas, sets all of the rectangles it is in contact with to white."
      ],
      "metadata": {
        "id": "hCqpNdNMWizN"
      }
    },
    {
      "cell_type": "code",
      "source": [
        "!pip install pgzero"
      ],
      "metadata": {
        "colab": {
          "base_uri": "https://localhost:8080/"
        },
        "id": "wqXMHSAYrxe0",
        "outputId": "be752aea-9c0e-4e13-df0c-f6a45435ad4b"
      },
      "execution_count": null,
      "outputs": [
        {
          "output_type": "stream",
          "name": "stdout",
          "text": [
            "Requirement already satisfied: pgzero in /usr/local/lib/python3.11/dist-packages (1.2.1)\n",
            "Requirement already satisfied: pygame~=2.0 in /usr/local/lib/python3.11/dist-packages (from pgzero) (2.6.1)\n",
            "Requirement already satisfied: numpy in /usr/local/lib/python3.11/dist-packages (from pgzero) (2.0.2)\n"
          ]
        }
      ]
    },
    {
      "cell_type": "code",
      "source": [
        "import pgzero\n",
        "from graphics import GraphWin, Rectangle, Point\n",
        "import time\n",
        "\n",
        "\n",
        "CANVAS_WIDTH = 400\n",
        "CANVAS_HEIGHT = 400\n",
        "CELL_SIZE = 40\n",
        "ERASER_SIZE = 20\n",
        "\n",
        "def rectangles_overlap(ax1, ay1, ax2, ay2, bx1, by1, bx2, by2):\n",
        "    \"\"\"Return True if rectangle A (ax1, ay1, ax2, ay2) overlaps rectangle B (bx1, by1, bx2, by2).\"\"\"\n",
        "    return not (ax2 < bx1 or ax1 > bx2 or ay2 < by1 or ay1 > by2)\n",
        "\n",
        "def erase_objects(eraser_coords, cells):\n",
        "    \"\"\"\n",
        "    For each cell, if its rectangle overlaps with the eraser,\n",
        "    change its fill color to white.\n",
        "\n",
        "    eraser_coords: (left, top, right, bottom)\n",
        "    cells: list of tuples (cell_rectangle, (left, top, right, bottom))\n",
        "    \"\"\"\n",
        "    for cell, (cx1, cy1, cx2, cy2) in cells:\n",
        "        if rectangles_overlap(eraser_coords[0], eraser_coords[1], eraser_coords[2], eraser_coords[3],\n",
        "                              cx1, cy1, cx2, cy2):\n",
        "            cell.setFill(\"white\")\n",
        "\n",
        "def main():\n",
        "    # Create the window.\n",
        "    win = GraphWin(\"Eraser Canvas\", CANVAS_WIDTH, CANVAS_HEIGHT)\n",
        "    win.setBackground(\"white\")\n",
        "\n",
        "    # Create grid of blue cells and store each cell with its coordinates.\n",
        "    cells = []\n",
        "    for row in range(0, CANVAS_HEIGHT, CELL_SIZE):\n",
        "        for col in range(0, CANVAS_WIDTH, CELL_SIZE):\n",
        "            p1 = Point(col, row)\n",
        "            p2 = Point(col + CELL_SIZE, row + CELL_SIZE)\n",
        "            cell = Rectangle(p1, p2)\n",
        "            cell.setFill(\"blue\")\n",
        "            cell.draw(win)\n",
        "            cells.append((cell, (col, row, col + CELL_SIZE, row + CELL_SIZE)))\n",
        "\n",
        "    # Wait for an initial click to create the eraser.\n",
        "    initial_click = win.getMouse()\n",
        "    eraser = Rectangle(Point(initial_click.getX(), initial_click.getY()),\n",
        "                       Point(initial_click.getX() + ERASER_SIZE, initial_click.getY() + ERASER_SIZE))\n",
        "    eraser.setFill(\"pink\")\n",
        "    eraser.draw(win)\n",
        "\n",
        "    # Main loop to simulate click-and-drag.\n",
        "    # Use win.checkMouse() to get new mouse events without blocking.\n",
        "    # (True dragging isn’t supported in Zelle’s graphics, but rapid clicks while moving\n",
        "    #  the mouse can simulate dragging.)\n",
        "    while True:\n",
        "        # Allow user to press \"q\" to quit.\n",
        "        key = win.checkKey()\n",
        "        if key.lower() == \"q\":\n",
        "            break\n",
        "\n",
        "        # Check for a new mouse event.\n",
        "        new_point = win.checkMouse()\n",
        "        if new_point is not None:\n",
        "            # Calculate the difference between the new click and the eraser's current top-left.\n",
        "            current_top_left = eraser.getP1()\n",
        "            dx = new_point.getX() - current_top_left.getX()\n",
        "            dy = new_point.getY() - current_top_left.getY()\n",
        "            eraser.move(dx, dy)\n",
        "\n",
        "        # Get current coordinates of the eraser.\n",
        "        p1 = eraser.getP1()\n",
        "        p2 = eraser.getP2()\n",
        "        eraser_coords = (p1.getX(), p1.getY(), p2.getX(), p2.getY())\n",
        "\n",
        "        # Erase any cell overlapping with the eraser.\n",
        "        erase_objects(eraser_coords, cells)\n",
        "\n",
        "        time.sleep(0.01)  # A short pause for smoother updating.\n",
        "\n",
        "    win.close()\n",
        "\n",
        "if __name__ == '__main__':\n",
        "    main()\n"
      ],
      "metadata": {
        "id": "23wRtYCYW9pQ"
      },
      "execution_count": null,
      "outputs": []
    },
    {
      "cell_type": "markdown",
      "source": [
        "#04_Flowing_With_Data_Structure\n",
        "Q. 4 In the information flow lesson, we discussed using a variable storing a number as an example of scope. We saw that changes we made to the number inside a function did not stay unless we returned it. This is true for what we call immutable data types which include things like numbers and strings.\n",
        "\n",
        "However, there are also mutable data types where changes stay even if we don't return anything. Some examples of mutable data types are lists and dictionaries. This means that you should be mindful when modifying lists and dictionaries within helper functions since their changes stay whether or not you return them.\n",
        "\n",
        "To see this in action, fill out the add_three_copies(...) function which takes a list and some data and then adds three copies of the data to the list. Don't return anything and see what happens! Compare this process to the x = change(x) example and note the differences.\n",
        "\n",
        "Here is an example run of this program (user input in bold italics):\n",
        "\n",
        "Enter a message to copy: Hello world!\n",
        "\n",
        "List before: []\n",
        "\n",
        "List after: ['Hello world!', 'Hello world!', 'Hello world!']\n",
        "\n",
        "(Note. The concept of immutable/mutable data types is called mutability. Be careful because different programming languages have different rules regarding mutability!)"
      ],
      "metadata": {
        "id": "EqxR6GigXJnS"
      }
    },
    {
      "cell_type": "code",
      "source": [
        "def add_three_copies(lst, data):\n",
        "    # Add three copies of the data to the list\n",
        "    lst.append(data)\n",
        "    lst.append(data)\n",
        "    lst.append(data)\n",
        "\n",
        "def main():\n",
        "    # Prompt the user for input\n",
        "    message = input(\"Enter a message to copy: \")\n",
        "\n",
        "    # Create an empty list\n",
        "    my_list = []\n",
        "\n",
        "    # Show the list before modification\n",
        "    print(\"List before:\", my_list)\n",
        "\n",
        "    # Call the function to add three copies of the message to the list\n",
        "    add_three_copies(my_list, message)\n",
        "\n",
        "    # Show the list after modification\n",
        "    print(\"List after:\", my_list)\n",
        "\n",
        "# This provided line is required at the end of\n",
        "# Python file to call the main() function.\n",
        "if __name__ == '__main__':\n",
        "    main()\n"
      ],
      "metadata": {
        "colab": {
          "base_uri": "https://localhost:8080/"
        },
        "id": "oe7cIBY3XcGx",
        "outputId": "535d5a2a-a593-4983-dc78-6e202b407f97"
      },
      "execution_count": null,
      "outputs": [
        {
          "output_type": "stream",
          "name": "stdout",
          "text": [
            "Enter a message to copy: my name is nazia\n",
            "List before: []\n",
            "List after: ['my name is nazia', 'my name is nazia', 'my name is nazia']\n"
          ]
        }
      ]
    },
    {
      "cell_type": "markdown",
      "source": [
        "#05_Get_First_Element\n",
        "Q. 5 Fill out the function get_first_element(lst) which takes in a list lst as a parameter and prints the first element in the list. The list is guaranteed to be non-empty. We've written some code for you which prompts the user to input the list one element at a time."
      ],
      "metadata": {
        "id": "TfpZB4Y-X1cM"
      }
    },
    {
      "cell_type": "code",
      "source": [
        "def add_three_copies(lst, data):\n",
        "    # Add three copies of the data to the list\n",
        "    lst.append(data)\n",
        "    lst.append(data)\n",
        "    lst.append(data)\n",
        "\n",
        "def main():\n",
        "    # Prompt the user for input\n",
        "    message = input(\"Enter a message to copy: \")\n",
        "\n",
        "    # Create an empty list\n",
        "    my_list = []\n",
        "\n",
        "    # Show the list before modification\n",
        "    print(\"List before:\", my_list)\n",
        "\n",
        "    # Call the function to add three copies of the message to the list\n",
        "    add_three_copies(my_list, message)\n",
        "\n",
        "    # Show the list after modification\n",
        "    print(\"List after:\", my_list)\n",
        "\n",
        "# This provided line is required at the end of\n",
        "# Python file to call the main() function.\n",
        "if __name__ == '__main__':\n",
        "    main()\n"
      ],
      "metadata": {
        "colab": {
          "base_uri": "https://localhost:8080/"
        },
        "id": "GJCIOtxMYFwe",
        "outputId": "a179c094-8dd5-4fb3-9870-8f6a260f5a09"
      },
      "execution_count": null,
      "outputs": [
        {
          "output_type": "stream",
          "name": "stdout",
          "text": [
            "Enter a message to copy: hello\n",
            "List before: []\n",
            "List after: ['hello', 'hello', 'hello']\n"
          ]
        }
      ]
    },
    {
      "cell_type": "markdown",
      "source": [
        "#06_Get_Last_Element\n",
        "Q. 6 Fill out the function get_last_element(lst) which takes in a list lst as a parameter and prints the last element in the list. The list is guaranteed to be non-empty, but there are no guarantees on its length."
      ],
      "metadata": {
        "id": "-M1QTj8ZYN1d"
      }
    },
    {
      "cell_type": "code",
      "source": [
        "def get_last_element(lst):\n",
        "    # Print the last element of the list\n",
        "    print(lst[-1])\n",
        "\n",
        "def main():\n",
        "    # Prompt the user to input the list one element at a time\n",
        "    n = int(input(\"How many elements in the list? \"))\n",
        "    lst = []\n",
        "\n",
        "    for _ in range(n):\n",
        "        element = input(\"Enter an element: \")\n",
        "        lst.append(element)\n",
        "\n",
        "    # Call the function to print the last element\n",
        "    get_last_element(lst)\n",
        "\n",
        "# This provided line is required at the end of\n",
        "# Python file to call the main() function.\n",
        "if __name__ == '__main__':\n",
        "    main()\n"
      ],
      "metadata": {
        "colab": {
          "base_uri": "https://localhost:8080/"
        },
        "id": "DQJaWIy8YU7R",
        "outputId": "d72c4de4-1594-462f-d914-13f5045a4eff"
      },
      "execution_count": null,
      "outputs": [
        {
          "output_type": "stream",
          "name": "stdout",
          "text": [
            "How many elements in the list? 5\n",
            "Enter an element: hi\n",
            "Enter an element: my\n",
            "Enter an element: name\n",
            "Enter an element: is\n",
            "Enter an element: Nazia\n",
            "Nazia\n"
          ]
        }
      ]
    },
    {
      "cell_type": "markdown",
      "source": [
        "#07_get_List\n",
        "Q. 7 Write a program which continuously asks the user to enter values which are added one by one into a list. When the user presses enter without typing anything, print the list.\n",
        "\n",
        "Here's a sample run (user input is in blue):\n",
        "\n",
        "Enter a value: 1 Enter a value: 2 Enter a value: 3 Enter a value: Here's the list: ['1', '2', '3']"
      ],
      "metadata": {
        "id": "In-SnOGvYsvx"
      }
    },
    {
      "cell_type": "code",
      "source": [
        "def main():\n",
        "    # Create an empty list\n",
        "    user_list = []\n",
        "\n",
        "    # Continuously ask the user to enter values\n",
        "    while True:\n",
        "        value = input(\"Enter a value: \")\n",
        "\n",
        "        # Stop if the user presses enter without typing anything\n",
        "        if value == \"\":\n",
        "            break\n",
        "\n",
        "        # Add the entered value to the list\n",
        "        user_list.append(value)\n",
        "\n",
        "    # Print the list\n",
        "    print(\"Here's the list:\", user_list)\n",
        "\n",
        "# This provided line is required at the end of\n",
        "# Python file to call the main() function.\n",
        "if __name__ == '__main__':\n",
        "    main()\n"
      ],
      "metadata": {
        "colab": {
          "base_uri": "https://localhost:8080/"
        },
        "id": "7X0QibtFY3TY",
        "outputId": "d0ff3a9e-300d-45e4-877b-565a89835b54"
      },
      "execution_count": null,
      "outputs": [
        {
          "output_type": "stream",
          "name": "stdout",
          "text": [
            "Enter a value: 77\n",
            "Enter a value: 99\n",
            "Enter a value: 44\n",
            "Enter a value: 55\n",
            "Enter a value: 66\n",
            "Enter a value: 22\n",
            "Enter a value: 11\n",
            "Enter a value: 88\n",
            "Enter a value: 77\n",
            "Enter a value: 222222\n",
            "Enter a value: \n",
            "Here's the list: ['77', '99', '44', '55', '66', '22', '11', '88', '77', '222222']\n"
          ]
        }
      ]
    },
    {
      "cell_type": "markdown",
      "source": [
        "#08_Shorten\n",
        "Q. 8 Fill out the function shorten(lst) which removes elements from the end of lst, which is a list, and prints each item it removes until lst is MAX_LENGTH items long. If lst is already shorter than MAX_LENGTH you should leave it unchanged. We've written a main() function for you which gets a list and passes it into your function once you run the program. For the autograder to pass you will need MAX_LENGTH to be 3, but feel free to change it around to test your program."
      ],
      "metadata": {
        "id": "z1kRl9VYZMgS"
      }
    },
    {
      "cell_type": "code",
      "source": [
        "MAX_LENGTH = 3  # Maximum length of the list\n",
        "\n",
        "def shorten(lst):\n",
        "    # Remove elements from the end of the list until it has MAX_LENGTH elements\n",
        "    while len(lst) > MAX_LENGTH:\n",
        "        removed_item = lst.pop()  # Remove and store the last item\n",
        "        print(f\"Removed: {removed_item}\")  # Print the removed item\n",
        "\n",
        "def main():\n",
        "    # Example list (you can modify or add more test cases)\n",
        "    user_list = input(\"Enter a list of items separated by spaces: \").split()\n",
        "\n",
        "    # Call the shorten function\n",
        "    shorten(user_list)\n",
        "\n",
        "    # Print the final list\n",
        "    print(\"Final list:\", user_list)\n",
        "\n",
        "# This provided line is required at the end of\n",
        "# Python file to call the main() function.\n",
        "if __name__ == '__main__':\n",
        "    main()\n"
      ],
      "metadata": {
        "colab": {
          "base_uri": "https://localhost:8080/"
        },
        "id": "mkTTQwg9ZSej",
        "outputId": "d29703fa-2a45-40d6-a098-19261ec38420"
      },
      "execution_count": null,
      "outputs": [
        {
          "output_type": "stream",
          "name": "stdout",
          "text": [
            "Enter a list of items separated by spaces: book pen bag shoe pencil copy\n",
            "Removed: copy\n",
            "Removed: pencil\n",
            "Removed: shoe\n",
            "Final list: ['book', 'pen', 'bag']\n"
          ]
        }
      ]
    },
    {
      "cell_type": "markdown",
      "source": [
        "#**Step_03_if_else_statement**"
      ],
      "metadata": {
        "id": "ykc4Ljyk0_ZU"
      }
    },
    {
      "cell_type": "markdown",
      "source": [
        "#01_print_events\n",
        "Q.01 Write a program that prints the first 20 even numbers. There are several correct approaches, but they all use a loop of some sort. Do no write twenty print statements\n",
        "\n",
        "The first even number is 0:\n",
        "\n",
        "0 2 4 6 8 10 12 14 16 18 20 22 24 26 28 30 32 34 36 38"
      ],
      "metadata": {
        "id": "JN6tUugf1Qgx"
      }
    },
    {
      "cell_type": "code",
      "source": [
        "def main():\n",
        "    # This for-loop start at 0 and counts up to 19 (for a total of 20 numbers)\n",
        "    for i in range(10):\n",
        "        print(i * 2)  # Use the 'i' value inside the for-loop\n",
        "\n",
        "# Call the main function when \"run\", no need to edit anything below!\n",
        "if __name__ == \"__main__\":\n",
        "    main()"
      ],
      "metadata": {
        "colab": {
          "base_uri": "https://localhost:8080/"
        },
        "id": "YhqFGWC31kc8",
        "outputId": "b25e8460-3de0-48e2-e07c-77fa6ba7415e"
      },
      "execution_count": null,
      "outputs": [
        {
          "output_type": "stream",
          "name": "stdout",
          "text": [
            "0\n",
            "2\n",
            "4\n",
            "6\n",
            "8\n",
            "10\n",
            "12\n",
            "14\n",
            "16\n",
            "18\n"
          ]
        }
      ]
    },
    {
      "cell_type": "markdown",
      "source": [
        "#02_International_voting_Age\n",
        "Q.2 Write a program which asks a user for their age and lets them know if they can or can't vote in the following three fictional countries.\n",
        "\n",
        "Around the world, different countries have different voting ages. In the fictional countries of Peturksbouipo, Stanlau, and Mayengua, the voting ages are very different:\n",
        "\n",
        "the voting age in Peturksbouipo is 16 (in real life, this is the voting age in, for example, Scotland, Ethiopia, and Austria)\n",
        "\n",
        "the voting age in Stanlau is 25 (in real life this is the voting age in the United Arab Emirates)\n",
        "\n",
        "the voting age in Mayengua is 48 (in real life, as far as we can tell, this isn't the voting age anywhere)\n",
        "\n",
        "Your code should prompt the for their age and print whether or not they can vote in Peturksbouipo, Stanlau, or Mayengua.\n",
        "\n",
        "Here's a sample run of the program (user input is in blue):\n",
        "\n",
        "How old are you? 20 You can vote in Peturksbouipo where the voting age is 16. You cannot vote in Stanlau where the voting age is 25. You cannot vote in Mayengua where the voting age is 48."
      ],
      "metadata": {
        "id": "-NUic6jO18Ki"
      }
    },
    {
      "cell_type": "code",
      "source": [
        "PETURKSBOUIPO_AGE : int = 16\n",
        "STANLAU_AGE : int = 25\n",
        "MAYENGUA_AGE : int = 48\n",
        "\n",
        "def main():\n",
        "    # Get the user's age\n",
        "    user_age = int(input(\"How old are you? \"))\n",
        "\n",
        "    # Check if the user can vote in Peturksbouipo\n",
        "    if user_age >= PETURKSBOUIPO_AGE:\n",
        "        print(\"You can vote in Peturksbouipo where the voting age is \" + str(PETURKSBOUIPO_AGE) + \".\")\n",
        "    else:\n",
        "        print(\"You cannot vote in Peturksbouipo where the voting age is \" + str(PETURKSBOUIPO_AGE) + \".\")\n",
        "\n",
        "    # Check if the user can vote in Stanlau\n",
        "    if user_age >= STANLAU_AGE:\n",
        "        print(\"You can vote in Stanlau where the voting age is \" + str(STANLAU_AGE) + \".\")\n",
        "    else:\n",
        "        print(\"You cannot vote in Stanlau where the voting age is \" + str(STANLAU_AGE) + \".\")\n",
        "\n",
        "    # Check if user can vote in Mayengua\n",
        "    if user_age >= MAYENGUA_AGE:\n",
        "        print(\"You can vote in Mayengua where the voting age is \" + str(MAYENGUA_AGE) + \".\")\n",
        "    else:\n",
        "        print(\"You cannot vote in Mayengua where the voting age is \" + str(MAYENGUA_AGE) + \".\")\n",
        "\n",
        "\n",
        "# There is no need to edit code beyond this point\n",
        "\n",
        "if __name__ == '__main__':\n",
        "    main()"
      ],
      "metadata": {
        "colab": {
          "base_uri": "https://localhost:8080/"
        },
        "id": "_A4Obdb42PN3",
        "outputId": "6017a52f-225c-4c9b-b15c-790cdc51aad6"
      },
      "execution_count": null,
      "outputs": [
        {
          "output_type": "stream",
          "name": "stdout",
          "text": [
            "How old are you? 35\n",
            "You can vote in Peturksbouipo where the voting age is 16.\n",
            "You can vote in Stanlau where the voting age is 25.\n",
            "You cannot vote in Mayengua where the voting age is 48.\n"
          ]
        }
      ]
    },
    {
      "cell_type": "markdown",
      "source": [
        "#03_Leap_Year\n",
        "\n",
        "Q.3 Write a program that reads a year from the user and tells whether a given year is a leap year or not.\n",
        "\n",
        "A leap year (also known as an intercalary year or bissextile year) is a calendar year that contains an additional day (or, in the case of a lunisolar calendar, a month) added to keep the calendar year synchronized with the astronomical year or seasonal year. In the Gregorian calendar, each leap year has 366 days instead of 365, by extending February to 29 days rather than the common 28.\n",
        "\n",
        "In the Gregorian calendar, three criteria must be checked to identify leap years:\n",
        "\n",
        "The given year must be evenly divisible by 4;\n",
        "If the year can also be evenly divided by 100, it is NOT a leap year; unless:\n",
        "The year is also evenly divisible by 400. Then it is a leap year.\n",
        "Your code should use the above criteria to check for a leap year and then print either \"That's a leap year!\" or \"That's not a leap year.\""
      ],
      "metadata": {
        "id": "R22H35HH2wm-"
      }
    },
    {
      "cell_type": "code",
      "source": [
        "def main():\n",
        "    # Get the year to check from the user\n",
        "    year = int(input('Please input a year: '))\n",
        "\n",
        "    if year % 4 == 0:  # Checking whether the provided year is evenly divisibly by 4\n",
        "        if year % 100 == 0:  # Checking whether the provided year is evenly divisibly by 100\n",
        "            if year % 400 == 0:  # Checking whether the provided year is evenly divisibly by 400\n",
        "                print(\"That's a leap year!\")\n",
        "            else:  # (Not divisible by 400)\n",
        "                print(\"That's not a leap year.\")\n",
        "        else:  # (Not divisible by 100)\n",
        "            print(\"That's a leap year!\")\n",
        "    else:  # (Not divisible by 4)\n",
        "        print(\"That's not a leap year.\")\n",
        "\n",
        "\n",
        "# There is no need to edit code beyond this point\n",
        "\n",
        "if __name__ == '__main__':\n",
        "    main()"
      ],
      "metadata": {
        "colab": {
          "base_uri": "https://localhost:8080/"
        },
        "id": "cer_ch3I29dZ",
        "outputId": "33fd6527-5b6e-449a-fd34-d44a12eacd0d"
      },
      "execution_count": null,
      "outputs": [
        {
          "output_type": "stream",
          "name": "stdout",
          "text": [
            "Please input a year: 2024\n",
            "That's a leap year!\n"
          ]
        }
      ]
    },
    {
      "cell_type": "markdown",
      "source": [
        "#04_Tall_enough_to_ride\n",
        "Q.4 Write a program which asks the user how tall they are and prints whether or not they're taller than a pre-specified minimum height.\n",
        "\n",
        "In amusement parks (ah, the good old pre-pandemic days...), rollercoasters frequently have minimum height requirements for safety reasons. Assume for now that the minimum height is 50 of whatever height unit you'd like\n",
        "\n",
        "Here's two sample runs (user input is in bold italics):\n",
        "\n",
        "How tall are you? 100\n",
        "\n",
        "You're tall enough to ride!\n",
        "\n",
        "How tall are you? 10\n",
        "\n",
        "You're not tall enough to ride, but maybe next year!\n",
        "\n",
        "(For an extra challenge, write code which will repeatedly ask a user how tall they are and tell them whether or not they're tall enough to ride, until the user doesn't enter a height at all, in which case the program stops. Curious about how to do this? See the function tall_enough_extension() in the solution code!)"
      ],
      "metadata": {
        "id": "thIUBRvQ3Xpi"
      }
    },
    {
      "cell_type": "code",
      "source": [
        "MINIMUM_HEIGHT : int = 50 # arbitrary units :)\n",
        "\n",
        "def main():\n",
        "    height = float(input(\"How tall are you? \"))\n",
        "    if height >= MINIMUM_HEIGHT:\n",
        "        print(\"You're tall enough to ride!\")\n",
        "    else:\n",
        "        print(\"You're not tall enough to ride, but maybe next year!\")\n",
        "\n",
        "\n",
        "# There is no need to edit code beyond this point\n",
        "\n",
        "if __name__ == '__main__':\n",
        "    main()"
      ],
      "metadata": {
        "colab": {
          "base_uri": "https://localhost:8080/"
        },
        "id": "oJy_hAam3pZ5",
        "outputId": "a8ce8afd-ed3d-4a21-867e-1e8e4573fe31"
      },
      "execution_count": null,
      "outputs": [
        {
          "output_type": "stream",
          "name": "stdout",
          "text": [
            "How tall are you? 62\n",
            "You're tall enough to ride!\n"
          ]
        }
      ]
    },
    {
      "cell_type": "markdown",
      "source": [
        "#05_Random_Number\n",
        "\n",
        "Q.5 Print 10 random numbers in the range 1 to 100.\n",
        "\n",
        "Here is an example run:\n",
        "\n",
        "45 79 61 47 52 10 16 83 19 12\n",
        "\n",
        "Each time you run your program you should get different numbers\n",
        "\n",
        "81 76 70 1 27 63 96 100 32 92\n",
        "\n",
        "Recall that the python random library has a function randint which returns an integer in the range set by the parameters (inclusive). For example this call would produce a random integer between 1 and 6, which could include 1 and could include 6:\n",
        "\n",
        "value = random.randint(1, 6)"
      ],
      "metadata": {
        "id": "8dwkIWbw39Hd"
      }
    },
    {
      "cell_type": "code",
      "source": [
        "import random\n",
        "\n",
        "N_NUMBERS: int = 10\n",
        "MIN_VALUE: int = 1\n",
        "MAX_VALUE: int = 100\n",
        "\n",
        "def main():\n",
        "    # Generate 10 random numbers in the range [MIN_VALUE, MAX_VALUE]\n",
        "    random_numbers = [random.randint(MIN_VALUE, MAX_VALUE) for _ in range(N_NUMBERS)]\n",
        "\n",
        "    # Print the generated random numbers, separated by spaces\n",
        "    print(\" \".join(map(str, random_numbers)))\n",
        "\n",
        "if __name__ == '__main__':\n",
        "    main()\n"
      ],
      "metadata": {
        "colab": {
          "base_uri": "https://localhost:8080/"
        },
        "id": "5A0-sVq84IoQ",
        "outputId": "5446a57a-b49c-47ac-a2c6-8e382850f203"
      },
      "execution_count": null,
      "outputs": [
        {
          "output_type": "stream",
          "name": "stdout",
          "text": [
            "35 32 58 22 79 84 34 18 86 44\n"
          ]
        }
      ]
    },
    {
      "cell_type": "markdown",
      "source": [
        "#**Step_04_Dictionaries**"
      ],
      "metadata": {
        "id": "zTAPOn0o6Klo"
      }
    },
    {
      "cell_type": "markdown",
      "source": [
        "#00_count_nums\n",
        "This program counts the number of times each number appears in a list. It uses a dictionary to keep track of the information.\n",
        "\n",
        "An example run of the program looks like this (user input is in blue):\n",
        "\n",
        "Enter a number: 3 Enter a number: 4 Enter a number: 3 Enter a number: 6 Enter a number: 4 Enter a number: 3 Enter a number: 12 Enter a number: 3 appears 3 times. 4 appears 2 times. 6 appears 1 times. 12 appears 1 times."
      ],
      "metadata": {
        "id": "_afr3d4E6aot"
      }
    },
    {
      "cell_type": "code",
      "source": [
        "def main():\n",
        "    number_counts = {}  # Initialize an empty dictionary to store the counts\n",
        "\n",
        "    while True:\n",
        "        # Take user input\n",
        "        number = input(\"Enter a number (or 'done' to finish): \")\n",
        "\n",
        "        # Check if the user wants to stop\n",
        "        if number.lower() == 'done':\n",
        "            break\n",
        "\n",
        "        # Convert input to an integer\n",
        "        try:\n",
        "            number = int(number)\n",
        "        except ValueError:\n",
        "            print(\"Please enter a valid number.\")\n",
        "            continue\n",
        "\n",
        "        # Update the count of the entered number in the dictionary\n",
        "        if number in number_counts:\n",
        "            number_counts[number] += 1\n",
        "        else:\n",
        "            number_counts[number] = 1\n",
        "\n",
        "    # Print the result\n",
        "    for num, count in number_counts.items():\n",
        "        print(f\"{num} appears {count} times.\")\n",
        "\n",
        "if __name__ == '__main__':\n",
        "    main()"
      ],
      "metadata": {
        "colab": {
          "base_uri": "https://localhost:8080/"
        },
        "id": "cf6rIwgt6myx",
        "outputId": "24f2389d-b804-4cf2-b488-9e0dd7d1bdf7"
      },
      "execution_count": null,
      "outputs": [
        {
          "output_type": "stream",
          "name": "stdout",
          "text": [
            "Enter a number (or 'done' to finish): 5\n",
            "Enter a number (or 'done' to finish): 3\n",
            "Enter a number (or 'done' to finish): 2\n",
            "Enter a number (or 'done' to finish): 1\n",
            "Enter a number (or 'done' to finish): 1\n",
            "Enter a number (or 'done' to finish): 2\n",
            "Enter a number (or 'done' to finish): 3\n",
            "Enter a number (or 'done' to finish): 3\n",
            "Enter a number (or 'done' to finish): 3\n",
            "Enter a number (or 'done' to finish): \n",
            "Please enter a valid number.\n",
            "Enter a number (or 'done' to finish): \n",
            "Please enter a valid number.\n",
            "Enter a number (or 'done' to finish): \n",
            "Please enter a valid number.\n",
            "Enter a number (or 'done' to finish): done\n",
            "5 appears 1 times.\n",
            "3 appears 4 times.\n",
            "2 appears 2 times.\n",
            "1 appears 2 times.\n"
          ]
        }
      ]
    },
    {
      "cell_type": "markdown",
      "source": [
        "#01_Phonebook\n",
        "Q.1 In this program we show an example of using dictionaries to keep track of information in a phonebook."
      ],
      "metadata": {
        "id": "Kp3EP6VS65tr"
      }
    },
    {
      "cell_type": "code",
      "source": [
        "def main():\n",
        "    phonebook = {}  # Initialize an empty dictionary to store phonebook entries\n",
        "\n",
        "    while True:\n",
        "        print(\"\\nPhonebook Menu:\")\n",
        "        print(\"1. Add a contact\")\n",
        "        print(\"2. Search for a contact\")\n",
        "        print(\"3. Update a contact\")\n",
        "        print(\"4. Delete a contact\")\n",
        "        print(\"5. Display all contacts\")\n",
        "        print(\"6. Exit\")\n",
        "\n",
        "        # Get user choice\n",
        "        choice = input(\"Choose an option (1-6): \")\n",
        "\n",
        "        if choice == '1':\n",
        "            name = input(\"Enter contact name: \")\n",
        "            phone_number = input(\"Enter phone number: \")\n",
        "            phonebook[name] = phone_number\n",
        "            print(f\"Added {name} with phone number {phone_number}.\")\n",
        "\n",
        "        elif choice == '2':\n",
        "            name = input(\"Enter the name to search: \")\n",
        "            if name in phonebook:\n",
        "                print(f\"{name}'s phone number is {phonebook[name]}.\")\n",
        "            else:\n",
        "                print(f\"Contact with the name {name} not found.\")\n",
        "\n",
        "        elif choice == '3':\n",
        "            name = input(\"Enter the name to update: \")\n",
        "            if name in phonebook:\n",
        "                new_number = input(f\"Enter new phone number for {name}: \")\n",
        "                phonebook[name] = new_number\n",
        "                print(f\"Updated {name}'s phone number to {new_number}.\")\n",
        "            else:\n",
        "                print(f\"Contact with the name {name} not found.\")\n",
        "\n",
        "        elif choice == '4':\n",
        "            name = input(\"Enter the name to delete: \")\n",
        "            if name in phonebook:\n",
        "                del phonebook[name]\n",
        "                print(f\"Deleted contact for {name}.\")\n",
        "            else:\n",
        "                print(f\"Contact with the name {name} not found.\")\n",
        "\n",
        "        elif choice == '5':\n",
        "            if phonebook:\n",
        "                print(\"\\nPhonebook Contacts:\")\n",
        "                for name, phone_number in phonebook.items():\n",
        "                    print(f\"{name}: {phone_number}\")\n",
        "            else:\n",
        "                print(\"Phonebook is empty.\")\n",
        "\n",
        "        elif choice == '6':\n",
        "            print(\"Exiting the phonebook program.\")\n",
        "            break\n",
        "\n",
        "        else:\n",
        "            print(\"Invalid choice, please try again.\")\n",
        "\n",
        "if __name__ == '__main__':\n",
        "    main()\n"
      ],
      "metadata": {
        "colab": {
          "base_uri": "https://localhost:8080/"
        },
        "id": "RxEqoXad7KDn",
        "outputId": "3b36ab1a-420d-42c2-e6c3-d313f8159315"
      },
      "execution_count": null,
      "outputs": [
        {
          "output_type": "stream",
          "name": "stdout",
          "text": [
            "\n",
            "Phonebook Menu:\n",
            "1. Add a contact\n",
            "2. Search for a contact\n",
            "3. Update a contact\n",
            "4. Delete a contact\n",
            "5. Display all contacts\n",
            "6. Exit\n",
            "Choose an option (1-6): 2\n",
            "Enter the name to search: nazia\n",
            "Contact with the name nazia not found.\n",
            "\n",
            "Phonebook Menu:\n",
            "1. Add a contact\n",
            "2. Search for a contact\n",
            "3. Update a contact\n",
            "4. Delete a contact\n",
            "5. Display all contacts\n",
            "6. Exit\n",
            "Choose an option (1-6): 1\n",
            "Enter contact name: nazi\n",
            "Enter phone number: 01234567\n",
            "Added nazi with phone number 01234567.\n",
            "\n",
            "Phonebook Menu:\n",
            "1. Add a contact\n",
            "2. Search for a contact\n",
            "3. Update a contact\n",
            "4. Delete a contact\n",
            "5. Display all contacts\n",
            "6. Exit\n",
            "Choose an option (1-6): 6\n",
            "Exiting the phonebook program.\n"
          ]
        }
      ]
    },
    {
      "cell_type": "markdown",
      "source": [
        "#02_Pop_up_shop\n",
        "Q.2 There's a small fruit shop nearby your house that you like to buy from. Since you buy several fruit at a time, you want to keep track of how much the fruit will cost before you go. Luckily you wrote down what fruits were available and how much one of each fruit costs.\n",
        "\n",
        "Write a program that loops through a dictionary of fruits, prompting the user to see how many of each fruit they want to buy, and then prints out the total combined cost of all of the fruits.\n",
        "\n",
        "Here is an example run of the program (user input is in bold italics):\n",
        "\n",
        "How many (apple) do you want?: 2\n",
        "\n",
        "How many (durian) do you want?: 0\n",
        "\n",
        "How many (jackfruit) do you want?: 1\n",
        "\n",
        "How many (kiwi) do you want?: 0\n",
        "\n",
        "How many (rambutan) do you want?: 1\n",
        "\n",
        "How many (mango) do you want?: 3\n",
        "\n",
        "Your total is $99.5"
      ],
      "metadata": {
        "id": "TP2EAdmm70aV"
      }
    },
    {
      "cell_type": "code",
      "source": [
        "def main():\n",
        "    # Define the price list for fruits\n",
        "    fruit_prices = {\n",
        "        'apple': 2.5,\n",
        "        'durian': 10.0,\n",
        "        'jackfruit': 5.0,\n",
        "        'kiwi': 3.0,\n",
        "        'rambutan': 4.5,\n",
        "        'mango': 6.0\n",
        "    }\n",
        "\n",
        "    total_cost = 0  # Initialize the total cost\n",
        "\n",
        "    # Loop through each fruit in the dictionary\n",
        "    for fruit, price in fruit_prices.items():\n",
        "        # Prompt the user to input how many of each fruit they want\n",
        "        quantity = int(input(f\"How many ({fruit}) do you want?: \"))\n",
        "        # Update the total cost based on the quantity and price\n",
        "        total_cost += quantity * price\n",
        "\n",
        "    # Output the total cost\n",
        "    print(f\"Your total is ${total_cost:.2f}\")\n",
        "\n",
        "if __name__ == '__main__':\n",
        "    main()\n"
      ],
      "metadata": {
        "colab": {
          "base_uri": "https://localhost:8080/"
        },
        "id": "cWLaWKOL8TrY",
        "outputId": "2110086e-938b-4f8b-b612-71d35ed297b5"
      },
      "execution_count": null,
      "outputs": [
        {
          "output_type": "stream",
          "name": "stdout",
          "text": [
            "How many (apple) do you want?: 5\n",
            "How many (durian) do you want?: 2\n",
            "How many (jackfruit) do you want?: 3\n",
            "How many (kiwi) do you want?: 5\n",
            "How many (rambutan) do you want?: 4\n",
            "How many (mango) do you want?: 3\n",
            "Your total is $98.50\n"
          ]
        }
      ]
    },
    {
      "cell_type": "markdown",
      "source": [
        "#03_powerful_password\n",
        "\n",
        "Q.3 You want to be safe online and use different passwords for different websites. However, you are forgetful at times and want to make a program that can match which password belongs to which website without storing the actual password!\n",
        "\n",
        "This can be done via something called hashing. Hashing is when we take something and convert it into a different, unique identifier. This is done using a hash function. Luckily, there are several resources that can help us with this.\n",
        "\n",
        "For example, using a hash function called SHA256(...) something as simple as\n",
        "\n",
        "hello\n",
        "\n",
        "can be hashed into a much more complex\n",
        "\n",
        "2cf24dba5fb0a30e26e83b2ac5b9e29e1b161e5c1fa7425e73043362938b9824\n",
        "\n",
        "Fill out the login(...) function for a website that hashes their passwords. Login should return True if an email's stored password hash in stored_logins is the same as the hash of password_to_check.\n",
        "\n",
        "(Hint. You will need to use the provided hash_password(...) function. You don't necessarily need to know how it works, just know that hash_password(...) returns the hash for the password!)"
      ],
      "metadata": {
        "id": "Vkautpri8hdU"
      }
    },
    {
      "cell_type": "code",
      "source": [
        "import hashlib\n",
        "\n",
        "# Function that hashes the password (this function might be predefined)\n",
        "def hash_password(password: str) -> str:\n",
        "    # Using SHA256 hashing algorithm to hash the password\n",
        "    return hashlib.sha256(password.encode()).hexdigest()\n",
        "\n",
        "# The stored logins (this would be simulated with email-password pairs and password hashes)\n",
        "stored_logins = {\n",
        "    'user@example.com': '2cf24dba5fb0a30e26e83b2ac5b9e29e1b161e5c1fa7425e73043362938b9824',  # Hashed version of \"hello\"\n",
        "    'admin@example.com': '6d7fce9e8a5e8d9e7d79f7d01726bcd1f1a7f6167f945b45c7f3d051ff5bc56e',  # Hashed version of \"password123\"\n",
        "}\n",
        "\n",
        "def login(email: str, password_to_check: str) -> bool:\n",
        "    # Check if the email is in the stored logins\n",
        "    if email in stored_logins:\n",
        "        # Hash the provided password\n",
        "        hashed_password_to_check = hash_password(password_to_check)\n",
        "\n",
        "        # Compare the hashed password with the stored password hash\n",
        "        if stored_logins[email] == hashed_password_to_check:\n",
        "            return True  # Login is successful\n",
        "    return False  # Login failed\n",
        "\n",
        "# Example usage\n",
        "email = input(\"Enter your email: \")\n",
        "password = input(\"Enter your password: \")\n",
        "\n",
        "if login(email, password):\n",
        "    print(\"Login successful!\")\n",
        "else:\n",
        "    print(\"Login failed!\")\n"
      ],
      "metadata": {
        "colab": {
          "base_uri": "https://localhost:8080/"
        },
        "id": "v5XpG04l8yAy",
        "outputId": "56ce557d-45f7-4c03-92e4-1a6eef02ed03"
      },
      "execution_count": null,
      "outputs": [
        {
          "output_type": "stream",
          "name": "stdout",
          "text": [
            "Enter your email: hello@gamil.com\n",
            "Enter your password: password123\n",
            "Login failed!\n"
          ]
        }
      ]
    },
    {
      "cell_type": "markdown",
      "source": [
        "#**Step_05_loops_control_flow**"
      ],
      "metadata": {
        "id": "JUAEbjGF-KqG"
      }
    },
    {
      "cell_type": "markdown",
      "source": [
        "#00_guess_my_number\n",
        "Guess My Number\n",
        "\n",
        "I am thinking of a number between 0 and 99... Enter a guess: 50 Your guess is too high\n",
        "\n",
        "Enter a new number: 25 Your guess is too low\n",
        "\n",
        "Enter a new number: 40 Your guess is too low\n",
        "\n",
        "Enter a new number: 45 Your guess is too low\n",
        "\n",
        "Enter a new number: 48 Congrats! The number was: 48"
      ],
      "metadata": {
        "id": "3Bk1HCZ4-UT1"
      }
    },
    {
      "cell_type": "markdown",
      "source": [],
      "metadata": {
        "id": "FBYIUwB865fR"
      }
    },
    {
      "cell_type": "code",
      "source": [
        "import random\n",
        "\n",
        "def guess_my_number():\n",
        "    # Generate a random number between 0 and 99\n",
        "    number_to_guess = random.randint(0, 99)\n",
        "\n",
        "    print(\"I am thinking of a number between 0 and 99...\")\n",
        "\n",
        "    while True:\n",
        "        # Prompt the user for a guess\n",
        "        guess = int(input(\"Enter a guess: \"))\n",
        "\n",
        "        # Check if the guess is too high, too low, or correct\n",
        "        if guess < number_to_guess:\n",
        "            print(\"Your guess is too low\")\n",
        "        elif guess > number_to_guess:\n",
        "            print(\"Your guess is too high\")\n",
        "        else:\n",
        "            print(f\"Congrats! The number was: {number_to_guess}\")\n",
        "            break  # Exit the loop when the correct number is guessed\n",
        "\n",
        "# Start the game\n",
        "if __name__ == '__main__':\n",
        "    guess_my_number()\n"
      ],
      "metadata": {
        "colab": {
          "base_uri": "https://localhost:8080/"
        },
        "id": "JIioHKCXCOFI",
        "outputId": "f630851c-2217-461a-95b0-aab2f08c14a9"
      },
      "execution_count": null,
      "outputs": [
        {
          "output_type": "stream",
          "name": "stdout",
          "text": [
            "I am thinking of a number between 0 and 99...\n",
            "Enter a guess: 55\n",
            "Your guess is too low\n",
            "Enter a guess: 87\n",
            "Your guess is too high\n",
            "Enter a guess: 66\n",
            "Congrats! The number was: 66\n"
          ]
        }
      ]
    },
    {
      "cell_type": "markdown",
      "source": [
        "#01_fiboncci\n",
        "Write a program to print terms in the Fibonacci sequence up to a maximum value.\n",
        "\n",
        "In the 13th century, the Italian mathematician Leonardo Fibonacci, as a way to explain the geometric growth of a population of rabbits, devised a mathematical sequence that now bears his name. The first two terms in this sequence, Fib(0) and Fib(1), are 0 and 1, and every subsequent term is the sum of the preceding two. Thus, the first several terms in the Fibonacci sequence look like this:\n",
        "\n",
        "Fib(0) = 0 Fib(1) = 1 Fib(2) = 1 = 0 + 1 Fib(3) = 2 = 1 + 1 Fib(4) = 3 = 1 + 2 Fib(5) = 5 = 2 + 3\n",
        "\n",
        "Write a program that displays the terms in the Fibonacci sequence, starting with Fib(0) and continuing as long as the terms are less than 10,000 (you should store this value as a constant!). Thus, your program should produce the following sample run:\n",
        "\n",
        "0 1 1 2 3 5 8 13 21 34 55 89 144 233 377 610 987 1597 2584 4181 6765"
      ],
      "metadata": {
        "id": "A9Kmi2a2CbH6"
      }
    },
    {
      "cell_type": "code",
      "source": [
        "# Define the constant for the maximum value\n",
        "MAX_VALUE = 10000\n",
        "\n",
        "def fibonacci():\n",
        "    # Initialize the first two Fibonacci numbers\n",
        "    a, b = 0, 1\n",
        "\n",
        "    # Print the Fibonacci sequence as long as the term is less than MAX_VALUE\n",
        "    while a < MAX_VALUE:\n",
        "        print(a, end=\" \")\n",
        "        a, b = b, a + b  # Update the values for the next Fibonacci numbers\n",
        "\n",
        "# Call the function to display the Fibonacci sequence\n",
        "if __name__ == '__main__':\n",
        "    fibonacci()\n"
      ],
      "metadata": {
        "colab": {
          "base_uri": "https://localhost:8080/"
        },
        "id": "fnEYisgqCuUr",
        "outputId": "336ddc3f-f4aa-4834-e048-ef0d8aff58fb"
      },
      "execution_count": null,
      "outputs": [
        {
          "output_type": "stream",
          "name": "stdout",
          "text": [
            "0 1 1 2 3 5 8 13 21 34 55 89 144 233 377 610 987 1597 2584 4181 6765 "
          ]
        }
      ]
    },
    {
      "cell_type": "markdown",
      "source": [
        "#02_print_events\n",
        "\n",
        "Write a program that prints the first 20 even numbers. There are several correct approaches, but they all use a loop of some sort. Do no write twenty print statements\n",
        "\n",
        "The first even number is 0:\n",
        "\n",
        "0 2 4 6 8 10 12 14 16 18 20 22 24 26 28 30 32 34 36 38"
      ],
      "metadata": {
        "id": "9ZrKJchxC2yj"
      }
    },
    {
      "cell_type": "code",
      "source": [
        "def print_even_numbers():\n",
        "    # Loop through the first 20 even numbers\n",
        "    for i in range(20):\n",
        "        print(i * 2, end=\" \")\n",
        "\n",
        "# Call the function to print the even numbers\n",
        "if __name__ == '__main__':\n",
        "    print_even_numbers()\n"
      ],
      "metadata": {
        "colab": {
          "base_uri": "https://localhost:8080/"
        },
        "id": "IGoqDuMyDR6q",
        "outputId": "2b84cea5-49e0-4aac-d44b-b6d6f4c1ce13"
      },
      "execution_count": null,
      "outputs": [
        {
          "output_type": "stream",
          "name": "stdout",
          "text": [
            "0 2 4 6 8 10 12 14 16 18 20 22 24 26 28 30 32 34 36 38 "
          ]
        }
      ]
    },
    {
      "cell_type": "markdown",
      "source": [
        "#03_wholesome_machine\n",
        "Write a program which prompts the user to type an affirmation of your choice (we'll use \"I am capable of doing anything I put my mind to.\") until they type it correctly. Sometimes, especially in the midst of such uncertain times, we just need to be reminded that we are resilient, capable, and strong; this little Python program may be able to help!\n",
        "\n",
        "Here's a sample run of the program (user input is in blue):\n",
        "\n",
        "Please type the following affirmation: I am capable of doing anything I put my mind to. Hmmm That was not the affirmation. Please type the following affirmation: I am capable of doing anything I put my mind to. I am capable of doing anything I put my mind to. That's right! :)\n",
        "\n",
        "Note that you can call input() with no prompt and it will still wait for a user to type something!"
      ],
      "metadata": {
        "id": "EXRR-_ONDXWx"
      }
    },
    {
      "cell_type": "code",
      "source": [
        "def main():\n",
        "    # Define the correct affirmation\n",
        "    affirmation = \"I am capable of doing anything I put my mind to.\"\n",
        "\n",
        "    # Loop until the user types the correct affirmation\n",
        "    while True:\n",
        "        user_input = input(\"Please type the following affirmation: \")\n",
        "\n",
        "        # Check if the input matches the affirmation\n",
        "        if user_input == affirmation:\n",
        "            print(\"That's right! :)\")\n",
        "            break  # Exit the loop when the user types the correct affirmation\n",
        "        else:\n",
        "            print(\"Hmmm That was not the affirmation.\")\n",
        "\n",
        "# Start the program\n",
        "if __name__ == '__main__':\n",
        "    main()\n",
        "\n"
      ],
      "metadata": {
        "colab": {
          "base_uri": "https://localhost:8080/"
        },
        "id": "l0zWnm2KDpOt",
        "outputId": "f59b6ed1-3ae5-45d1-a092-291ee7b24022"
      },
      "execution_count": null,
      "outputs": [
        {
          "output_type": "stream",
          "name": "stdout",
          "text": [
            "Please type the following affirmation: I am capable of doing anything I put my mind to.\n",
            "That's right! :)\n"
          ]
        }
      ]
    },
    {
      "cell_type": "markdown",
      "source": [
        "#04_liftoff\n",
        "Write a program that prints out the calls for a spaceship that is about to launch. Countdown from 10 to 1 and then output Liftoff!\n",
        "\n",
        "Here's a sample run of the program:\n",
        "\n",
        "10 9 8 7 6 5 4 3 2 1 Liftoff!\n",
        "\n",
        "There are many ways to solve this problem. One approach is to use a for loop, and to use the for loop variable i. Recall that i will keep track of how many times the for loop has completed executing its body. As an example this code:\n",
        "\n",
        "for i in range(10): print(i)\n",
        "\n",
        "Will print out the values 0, 1, 2, 3, 4, 5, 6, 7, 8, 9. The values printed in liftoff are 10 minus the number of times the for loop has completed."
      ],
      "metadata": {
        "id": "MFmH8JjTEtu5"
      }
    },
    {
      "cell_type": "code",
      "source": [
        "def countdown():\n",
        "    # Countdown from 10 to 1\n",
        "    for i in range(10, 0, -1):\n",
        "        print(i, end=\" \")\n",
        "\n",
        "    # Print Liftoff after the countdown\n",
        "    print(\"Liftoff!\")\n",
        "\n",
        "# Start the countdown\n",
        "if __name__ == '__main__':\n",
        "    countdown()\n"
      ],
      "metadata": {
        "colab": {
          "base_uri": "https://localhost:8080/"
        },
        "id": "pdjUs82eE6FK",
        "outputId": "26b9cf3e-f65b-402c-f3ff-ef051dc33b70"
      },
      "execution_count": null,
      "outputs": [
        {
          "output_type": "stream",
          "name": "stdout",
          "text": [
            "10 9 8 7 6 5 4 3 2 1 Liftoff!\n"
          ]
        }
      ]
    },
    {
      "cell_type": "markdown",
      "source": [
        "#05-double_it\n",
        "Write a program that asks a user to enter a number. Your program will then double that number and print out the result. It will repeat that process until the value is 100 or greater.\n",
        "\n",
        "For example if the user enters the number 2 you would then print:\n",
        "\n",
        "4 8 16 32 64 128\n",
        "\n",
        "Note that:\n",
        "\n",
        "2 doubled is 4\n",
        "\n",
        "4 doubled is 8\n",
        "\n",
        "8 doubled is 16\n",
        "\n",
        "and so on.\n",
        "\n",
        "We stop at 128 because that value is greater than 100.\n",
        "\n",
        "Maintain the current number in a variable named curr_value. When you double the number, you should be updating curr_value. Recall that you can double the value of curr_value using a line like:\n",
        "\n",
        "curr_value = curr_value * 2\n",
        "\n",
        "This program should have a while loop and the while loop condition should test if curr_value is less than 100. Thus, your program will have the line:\n",
        "\n",
        "while curr_value < 100:"
      ],
      "metadata": {
        "id": "oGKlRC1SFDY3"
      }
    },
    {
      "cell_type": "code",
      "source": [
        "def double_until_100():\n",
        "    # Ask the user for a number\n",
        "    curr_value = int(input(\"Enter a number: \"))\n",
        "\n",
        "    # Keep doubling the value until it reaches 100 or greater\n",
        "    while curr_value < 100:\n",
        "        curr_value = curr_value * 2\n",
        "        print(curr_value, end=\" \")\n",
        "\n",
        "# Run the program\n",
        "if __name__ == '__main__':\n",
        "    double_until_100()\n"
      ],
      "metadata": {
        "colab": {
          "base_uri": "https://localhost:8080/"
        },
        "id": "RgJqDd2MFSq5",
        "outputId": "226f3260-d97d-48f1-e068-5c75bf973b89"
      },
      "execution_count": null,
      "outputs": [
        {
          "output_type": "stream",
          "name": "stdout",
          "text": [
            "Enter a number: 3\n",
            "6 12 24 48 96 192 "
          ]
        }
      ]
    }
  ]
}